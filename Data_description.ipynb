{
 "cells": [
  {
   "cell_type": "markdown",
   "metadata": {},
   "source": [
    "# Data description"
   ]
  },
  {
   "cell_type": "markdown",
   "metadata": {},
   "source": [
    "## Data\n",
    "* Coordinate of the offices, hospital, fitness and living addresses of worker in Paris will be download from foursquare. \n",
    "* information concerning the food preference, the fast food location, their menu and their location will be collected.\n",
    "* health data will be collected form different health center and hospital in Paris"
   ]
  },
  {
   "cell_type": "markdown",
   "metadata": {},
   "source": [
    "## steps\n",
    "* The disease will be filtered so that only the overweight relate diseases will be selected (overweight, hyper blood pressure and diabete). \n",
    "* the address and the profession of the patient will be identified and the coordinate will be download.\n",
    "* a relation will be make between the health status and the profession will be evaluated.\n",
    "* the other parameter that explain the disease will be explore using random forest.\n",
    "* the office location in Paris associate with the highest level of disease will be clustered\n",
    "* the optimal location for the bar project will be identified using the above mentionned data\n"
   ]
  }
 ],
 "metadata": {
  "kernelspec": {
   "display_name": "Python 3",
   "language": "python",
   "name": "python3"
  },
  "language_info": {
   "codemirror_mode": {
    "name": "ipython",
    "version": 3
   },
   "file_extension": ".py",
   "mimetype": "text/x-python",
   "name": "python",
   "nbconvert_exporter": "python",
   "pygments_lexer": "ipython3",
   "version": "3.8.5"
  }
 },
 "nbformat": 4,
 "nbformat_minor": 4
}
