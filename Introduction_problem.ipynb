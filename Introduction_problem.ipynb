{
 "cells": [
  {
   "cell_type": "markdown",
   "metadata": {},
   "source": [
    "# OPEN AN AFRICAN FRUIT COCKTAIL BAR IN PARIS"
   ]
  },
  {
   "cell_type": "markdown",
   "metadata": {},
   "source": [
    "# Introduction"
   ]
  },
  {
   "cell_type": "markdown",
   "metadata": {},
   "source": [
    "### Background\n",
    "Fruits are good to maintain a last health state, and to reduce the risk of certain diseases. They are rich in nutrients (vitamins, minerals, fiber etc.) and low in calories, making it a great choice for waistlines and athletes.\n",
    "Dieteticiens and nutritionist recommend a daily consumption of five fruits and vegetables. Research shows that insuffisent fruit intake result in nutrient deficiencies, weakness, anemia and dizziness, especially for active people. "
   ]
  },
  {
   "cell_type": "markdown",
   "metadata": {},
   "source": [
    "### Problem statement\n",
    "In large cities, the expression \"time is money\" is litteraly true. People do not have a balanced diet since they mostly eat in fast food. The direct consequence is overweight and decrease in productivity. Overweight is now a major priority in public health in France, which cost about 56 billion Euro which around 2.6 of the GDP, spent in health insurance.\n",
    "To improve the health condition of the workers in France, a project is proposed to provide balanced and healthy fruit based cocktail to the french.\n",
    "the objective of these research is to identify the optimal location of the bar. "
   ]
  },
  {
   "cell_type": "markdown",
   "metadata": {},
   "source": [
    "### Target population\n",
    "The target population is the worker community. Since they are the most busy people and therefore only eat on the way. A cocktail in a take away format will be proposed to workers close to their place of work. This service could be also important for athlete or person in the process of losing weight. the bar should be in the vicinity of work place and fitness."
   ]
  }
 ],
 "metadata": {
  "kernelspec": {
   "display_name": "Python 3",
   "language": "python",
   "name": "python3"
  },
  "language_info": {
   "codemirror_mode": {
    "name": "ipython",
    "version": 3
   },
   "file_extension": ".py",
   "mimetype": "text/x-python",
   "name": "python",
   "nbconvert_exporter": "python",
   "pygments_lexer": "ipython3",
   "version": "3.8.5"
  }
 },
 "nbformat": 4,
 "nbformat_minor": 4
}
